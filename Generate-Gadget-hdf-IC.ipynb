{
 "cells": [
  {
   "cell_type": "code",
   "execution_count": 1,
   "metadata": {},
   "outputs": [
    {
     "name": "stdout",
     "output_type": "stream",
     "text": [
      "Length unit: 1 Kpc\n",
      "velocity unit: 1 km/s\n",
      "time unit: 977.793 Myr\n",
      "mass unit: 1 Msun\n",
      "gravitational constant: 4.30092e-06\n"
     ]
    }
   ],
   "source": [
    "# Basic\n",
    "import numpy as np\n",
    "import matplotlib.pyplot as plt\n",
    "import astropy.units as u\n",
    "\n",
    "# AGAMA\n",
    "import agama\n",
    "units = agama.setUnits(length=1, velocity=1, mass=1)\n",
    "print(units.replace(', ','\\n'))\n",
    "\n",
    "# Custom\n",
    "from ICwriter import empty_data_dict, write_gadget_hdf"
   ]
  },
  {
   "cell_type": "code",
   "execution_count": 2,
   "metadata": {},
   "outputs": [
    {
     "name": "stdout",
     "output_type": "stream",
     "text": [
      "data['Type1']: {'pos': '(N,3):float', 'vel': '(N,3):float', 'ID': '(N):int'}\n",
      "data['Type2']: {'pos': '(N,3):float', 'vel': '(N,3):float', 'ID': '(N):int'}\n"
     ]
    }
   ],
   "source": [
    "data = empty_data_dict(Ntypes=2)\n",
    "for key in data.keys(): print(f\"data['{key}']:\", data[key])"
   ]
  },
  {
   "cell_type": "markdown",
   "metadata": {},
   "source": [
    "The example data container above has two place holders for two separate particle types.  \n",
    "Each particle type requires a set of positions and velocities, which are both arrays of shape (N,3).  \n",
    "Additionally, the particle types require (unique) IDs.  "
   ]
  },
  {
   "cell_type": "code",
   "execution_count": 3,
   "metadata": {},
   "outputs": [],
   "source": [
    "def Spherical_IC(Nbody=1_000_000, M=1.5e11, rs=15):\n",
    "    \"\"\"\n",
    "    Generates a simple, single component, spherical satellite \n",
    "    following a Hernquist profile.\n",
    "    \n",
    "    \n",
    "    :Input:\n",
    "    M: float\n",
    "        Mass of the Hernquist in solar masses.\n",
    "    rs: float\n",
    "        scale radius of the Hernquist in kpc.\n",
    "    \n",
    "    Inspired by Vasiliev+2019:\n",
    "    https://arxiv.org/abs/2009.10726\n",
    "    \"\"\"\n",
    "    M = 1.5e11  # Mass in solar masses\n",
    "    Rs = 15 # scale radius in kpc\n",
    "    rho_0 = M/(2*np.pi)\n",
    "    \n",
    "    # Hernquist potential\n",
    "    pot  = agama.Potential(type='spheroid', \n",
    "                           densityNorm=rho_0,\n",
    "                           gamma=1, beta=4, alpha=1)\n",
    "    \n",
    "    # Eddington DF\n",
    "    df   = agama.DistributionFunction(type='QuasiSpherical', \n",
    "                                      density=pot, \n",
    "                                      potential=pot)  \n",
    "    \n",
    "    return agama.GalaxyModel(pot, df).sample(Nbody)"
   ]
  },
  {
   "cell_type": "markdown",
   "metadata": {},
   "source": [
    "See ./Tango4three_examples.py for some other examples to generate IC from the [Vasiliev+2019](https://arxiv.org/abs/2009.10726) paper"
   ]
  },
  {
   "cell_type": "code",
   "execution_count": 4,
   "metadata": {},
   "outputs": [],
   "source": [
    "# Create an empty data structure for a single particle type\n",
    "data = empty_data_dict(Ntypes=1)\n",
    "\n",
    "# Generate IC following a Hernquist\n",
    "IC, massess = Spherical_IC(Nbody=100_000)"
   ]
  },
  {
   "cell_type": "code",
   "execution_count": 5,
   "metadata": {},
   "outputs": [
    {
     "name": "stdout",
     "output_type": "stream",
     "text": [
      "Total mass: 1.496345e+11\n",
      "Mass per particle: [1496345.19885321]\n"
     ]
    }
   ],
   "source": [
    "# Just a sanity check\n",
    "print(\"Total mass: {0:e}\".format(massess.sum()))\n",
    "\n",
    "mass = np.unique(massess)\n",
    "print('Mass per particle:', mass)"
   ]
  },
  {
   "cell_type": "code",
   "execution_count": 6,
   "metadata": {},
   "outputs": [
    {
     "data": {
      "text/plain": [
       "100000"
      ]
     },
     "execution_count": 6,
     "metadata": {},
     "output_type": "execute_result"
    }
   ],
   "source": [
    "pos, vel = np.hsplit(IC, 2)\n",
    "Npart = pos.shape[0]\n",
    "Npart"
   ]
  },
  {
   "cell_type": "code",
   "execution_count": 7,
   "metadata": {},
   "outputs": [
    {
     "data": {
      "text/plain": [
       "((100000, 3), (100000, 3))"
      ]
     },
     "execution_count": 7,
     "metadata": {},
     "output_type": "execute_result"
    }
   ],
   "source": [
    "# Check: both should have shape (Npart, 3)\n",
    "pos.shape, vel.shape"
   ]
  },
  {
   "cell_type": "code",
   "execution_count": 8,
   "metadata": {},
   "outputs": [],
   "source": [
    "#Type1\n",
    "data['Type1']['pos'] = pos\n",
    "data['Type1']['vel'] = vel\n",
    "data['Type1']['ID'] = np.arange(Npart)\n",
    "\n",
    "\n",
    "write_gadget_hdf('./Hernquist_100k.hdf5', \n",
    "                 data, \n",
    "                 NumPart=[0, Npart], # first element is for Type0\n",
    "                 Massarr=[0, mass])\n",
    "\n",
    "# Example: two particle types\n",
    "\n",
    "# Type2\n",
    "# data['Type2']['pos'] = pos2\n",
    "# data['Type2']['vel'] = vel2\n",
    "# data['Type2']['ID'] = np.arange(Npart2)+Npart\n",
    "\n",
    "# write_gadget_hdf('./Hernquist_100k_2.hdf5', \n",
    "#                  data, \n",
    "#                  NumPart=[0, Npart, Npart2], # first element is for Type0\n",
    "#                  Massarr=[0, mass, mass2])"
   ]
  }
 ],
 "metadata": {
  "kernelspec": {
   "display_name": "Python 3",
   "language": "python",
   "name": "python3"
  },
  "language_info": {
   "codemirror_mode": {
    "name": "ipython",
    "version": 3
   },
   "file_extension": ".py",
   "mimetype": "text/x-python",
   "name": "python",
   "nbconvert_exporter": "python",
   "pygments_lexer": "ipython3",
   "version": "3.7.10"
  }
 },
 "nbformat": 4,
 "nbformat_minor": 4
}
